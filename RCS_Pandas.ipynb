{
 "cells": [
  {
   "cell_type": "code",
   "execution_count": 9,
   "id": "b7e78e70",
   "metadata": {},
   "outputs": [
    {
     "name": "stdout",
     "output_type": "stream",
     "text": [
      "                           Operation  Time (seconds)\n",
      "0                Mean of each column        1.832975\n",
      "1                 Sum of each column        0.966661\n",
      "2                        Filter rows        0.455840\n",
      "3                     Sort by column        1.523739\n",
      "4         Apply function to each row      139.146103\n",
      "5  Standard deviation of each column        2.836125\n",
      "6              Median of each column        4.654001\n",
      "7              Count distinct values        0.218149\n"
     ]
    }
   ],
   "source": [
    "import pandas as pd\n",
    "import numpy as np\n",
    "import time\n",
    "\n",
    "# Generate the data\n",
    "df = pd.DataFrame(np.random.rand(1000000, 100))\n",
    "\n",
    "# Initialize a dictionary to store the results\n",
    "results = {}\n",
    "\n",
    "# 1. Mean of each column\n",
    "start_time = time.time()\n",
    "means = df.mean()\n",
    "end_time = time.time()\n",
    "results['Mean of each column'] = end_time - start_time\n",
    "\n",
    "# 2. Sum of each column\n",
    "start_time = time.time()\n",
    "sums = df.sum()\n",
    "end_time = time.time()\n",
    "results['Sum of each column'] = end_time - start_time\n",
    "\n",
    "# 3. Filter rows based on a condition\n",
    "start_time = time.time()\n",
    "filtered_rows = df[df[0] > 0.5]\n",
    "end_time = time.time()\n",
    "results['Filter rows'] = end_time - start_time\n",
    "\n",
    "# 4. Sort by a specific column\n",
    "start_time = time.time()\n",
    "sorted_df = df.sort_values(by=0)\n",
    "end_time = time.time()\n",
    "results['Sort by column'] = end_time - start_time\n",
    "\n",
    "# 5. Apply a function to each row\n",
    "def some_function(row):\n",
    "    return row.sum()\n",
    "\n",
    "start_time = time.time()\n",
    "df['new_column'] = df.apply(some_function, axis=1)\n",
    "end_time = time.time()\n",
    "results['Apply function to each row'] = end_time - start_time\n",
    "\n",
    "# 6. Standard deviation of each column\n",
    "start_time = time.time()\n",
    "std_dev = df.std()\n",
    "end_time = time.time()\n",
    "results['Standard deviation of each column'] = end_time - start_time\n",
    "\n",
    "# 7. Median of each column\n",
    "start_time = time.time()\n",
    "medians = df.median()\n",
    "end_time = time.time()\n",
    "results['Median of each column'] = end_time - start_time\n",
    "\n",
    "# 8. Count distinct values in the first column\n",
    "start_time = time.time()\n",
    "distinct_counts = df[0].nunique()\n",
    "end_time = time.time()\n",
    "results['Count distinct values'] = end_time - start_time\n",
    "\n",
    "# Convert results to DataFrame for better visual representation\n",
    "report_df = pd.DataFrame(list(results.items()), columns=['Operation', 'Time (seconds)'])\n",
    "\n",
    "print(report_df)"
   ]
  },
  {
   "cell_type": "code",
   "execution_count": null,
   "id": "a2110cc1",
   "metadata": {},
   "outputs": [],
   "source": []
  },
  {
   "cell_type": "code",
   "execution_count": null,
   "id": "99e7c62a",
   "metadata": {},
   "outputs": [],
   "source": []
  }
 ],
 "metadata": {
  "kernelspec": {
   "display_name": "Python 3 (ipykernel)",
   "language": "python",
   "name": "python3"
  },
  "language_info": {
   "codemirror_mode": {
    "name": "ipython",
    "version": 3
   },
   "file_extension": ".py",
   "mimetype": "text/x-python",
   "name": "python",
   "nbconvert_exporter": "python",
   "pygments_lexer": "ipython3",
   "version": "3.9.13"
  }
 },
 "nbformat": 4,
 "nbformat_minor": 5
}
